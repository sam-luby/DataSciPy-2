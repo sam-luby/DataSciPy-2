{
 "cells": [
  {
   "cell_type": "markdown",
   "metadata": {},
   "source": [
    "## Sam Luby\n",
    "## 13389446"
   ]
  },
  {
   "cell_type": "markdown",
   "metadata": {},
   "source": [
    "# Part 1: Data Collection"
   ]
  },
  {
   "cell_type": "markdown",
   "metadata": {},
   "source": [
    "The objective of this assignment and notebook is to perform web scraping, to gather the corpus of a number of articles from a webpage and its subpages and to evaluate the performance of some classification models on the corpus.\n",
    "\n",
    "\n",
    "I use a number of functions to retrieve all the necessary data from the website, which has the baseurl:"
   ]
  },
  {
   "cell_type": "code",
   "execution_count": 1,
   "metadata": {},
   "outputs": [],
   "source": [
    "baseurl = \"http://mlg.ucd.ie/modules/COMP41680/archive/\""
   ]
  },
  {
   "cell_type": "markdown",
   "metadata": {},
   "source": [
    "A number of modules are imported."
   ]
  },
  {
   "cell_type": "code",
   "execution_count": 2,
   "metadata": {},
   "outputs": [],
   "source": [
    "import os\n",
    "from bs4 import BeautifulSoup as bs\n",
    "import urllib\n",
    "import re\n",
    "import pandas as pd\n",
    "from sklearn.feature_extraction.text import CountVectorizer\n",
    "from sklearn.feature_extraction.text import TfidfVectorizer\n",
    "import nltk\n",
    "from sklearn.model_selection import train_test_split, cross_val_score\n",
    "from sklearn.naive_bayes import MultinomialNB\n",
    "from sklearn.neighbors import KNeighborsClassifier\n",
    "from sklearn.svm import SVC\n",
    "from sklearn.metrics import *\n",
    "import numpy as np\n",
    "import matplotlib.pyplot as plt\n",
    "import itertools"
   ]
  },
  {
   "cell_type": "markdown",
   "metadata": {},
   "source": [
    "The __get_articles_list__ function is used to get a list of all the articles in all sub-pages of the website. It opens the website homepage and uses BeautifulSoup to parse the contents. It finds the subpages, and filters out the dead links at the bottom of the page by checking the length. Each subpage is added to a list. Then, for each 'monthly-subpage', I open the page and parse the contents, adding each valid article url to a list, which the function returns.\n",
    "\n",
    "__get_category_labels__ is used to retreive the category labels for every article on the site, and store in a text file. It creates a text file and for each category in the monthly subpage if finds the category class in the <td> html tags. Each category found is added to the text file.\n",
    "\n",
    "__get_article_contents__ opens each article url and reads the text contained in the file. This is achieved using the BeautifulSoup html parser. The article heading is contained in the 'h2' tag and the article contents are conained in the 'p' html paragraph tags. Only the relevant body of text is extracted, this is achieved by checking the 'p' html tag is empty.\n",
    "\n",
    "__save_article_contents__ uses the get_article_contents function to retrieve the text contents of each article, and save the contents of each article into a seperate text file. Each filename is the sequential article number."
   ]
  },
  {
   "cell_type": "code",
   "execution_count": 3,
   "metadata": {},
   "outputs": [],
   "source": [
    "# get a list of all articles in all sub-pages of a website\n",
    "def get_articles_list(baseurl):\n",
    "    articles_list = list()\n",
    "    months_list = list()\n",
    "\n",
    "    # open url and get page contents\n",
    "    f = urllib.request.urlopen(baseurl + \"index.html\")\n",
    "    dat = f.read()\n",
    "    page_contents = bs(dat, 'html.parser')\n",
    "\n",
    "    # finds the links to sub-pages (monthly sub-page) on this index page (only legitimate links)\n",
    "    for subpage in page_contents.find_all('a'):\n",
    "        if len(subpage.get('href')) > 0:\n",
    "            months_list.append(subpage.get('href'))\n",
    "\n",
    "    # finds the links on the monthly sub-page which contains links to each article\n",
    "    for i in range(len(months_list)):\n",
    "        monthly_subpage = baseurl + months_list[i]\n",
    "        f = urllib.request.urlopen(monthly_subpage)\n",
    "        dat = f.read()\n",
    "        monthly_contents = bs(dat, 'html.parser')\n",
    "\n",
    "        # calls the get_category_labels function to add categories for each month to a file\n",
    "        get_category_labels(monthly_contents)\n",
    "\n",
    "        # get each link (each article) for the given month, append to list.\n",
    "        for subpage in monthly_contents.find_all('a'):\n",
    "            url = subpage.get('href')\n",
    "            if \"article\" not in url:\n",
    "                continue\n",
    "            articles_list.append(url)\n",
    "    return articles_list\n",
    "\n",
    "\n",
    "# get the category labels for each month, store in text file\n",
    "def get_category_labels(monthly_contents):\n",
    "    # create directory for saving articles\n",
    "    file = open(\"categories/categories.txt\", \"a\")\n",
    "    categories = \"\"\n",
    "\n",
    "    # for the given monthly sub-page, put each article category into a file\n",
    "    for category in monthly_contents.find_all('td', class_='category'):\n",
    "        if \"N/A\" not in category.get_text():\n",
    "            categories += category.get_text() + '\\n'\n",
    "    file.write(categories)\n",
    "    file.close()\n",
    "\n",
    "\n",
    "# gets the body of each article, by extracting plain text from <p> html tags\n",
    "def get_article_content(article):\n",
    "\n",
    "    # get each article url and open\n",
    "    article_url = baseurl + article\n",
    "    f = urllib.request.urlopen(article_url)\n",
    "    dat = f.read()\n",
    "    article_contents = bs(dat, 'html.parser')\n",
    "\n",
    "    # get the content of each article, the text in each legitimate <h2> paragraph\n",
    "    article_text = article_contents.find('h2').get_text()\n",
    "    for paragraph in article_contents.find_all('p', class_=''):\n",
    "        article_text += (paragraph.get_text() + \"\\n\")\n",
    "    return article_text\n",
    "\n",
    "\n",
    "# save the contents of each article into a separate text file.\n",
    "def save_article_contents(articles):\n",
    "\n",
    "    # save the contents of each article into a seperate text file\n",
    "    for i in range(len(articles)):\n",
    "        article_text = get_article_content(articles[i])\n",
    "        path = \"data/\" + \"article_\" + str(i) + \".txt\"\n",
    "        file = open(path, \"w\", encoding=\"utf-8\")\n",
    "        file.write(article_text)\n",
    "        if i % 10 == 0:\n",
    "            print('Saved article #' + str(i))\n",
    "        file.close()"
   ]
  },
  {
   "cell_type": "markdown",
   "metadata": {},
   "source": [
    "The __download_files__ function, below, is called which handles all data scraping. The function checks if the directory with files is already present, and skips the webscraping if so. This avoids downloading duplicates etc.\n",
    "A directory is created for the article data and the categories for each article, and web scraping is them performed."
   ]
  },
  {
   "cell_type": "code",
   "execution_count": 4,
   "metadata": {},
   "outputs": [
    {
     "name": "stdout",
     "output_type": "stream",
     "text": [
      "Files already present.\n"
     ]
    }
   ],
   "source": [
    "# only download  files if necessary\n",
    "def download_files(baseurl):\n",
    "    data_path = \"data\"\n",
    "    categories_path = \"categories\"\n",
    "\n",
    "    # check if directory exists, if not then download everything\n",
    "    if not os.path.isdir(data_path):\n",
    "        print(\"Files not present, downloading...\")\n",
    "        os.mkdir(data_path)\n",
    "        os.mkdir(categories_path)\n",
    "        articles_list = get_articles_list(baseurl)\n",
    "        save_article_contents(articles_list)\n",
    "    else:\n",
    "        print(\"Files already present.\")\n",
    "\n",
    "\n",
    "download_files(baseurl) # main function for data scraping"
   ]
  },
  {
   "cell_type": "markdown",
   "metadata": {},
   "source": [
    "# Part 2: Text Classification"
   ]
  },
  {
   "cell_type": "markdown",
   "metadata": {},
   "source": [
    "## 1. Load Documents"
   ]
  },
  {
   "cell_type": "markdown",
   "metadata": {},
   "source": [
    "In part one, I used BeautifulSoup to extract the title and body of each article and store them into seperate text files. I also saved the category of each article into a text file.\n",
    "\n",
    "In this section, I load the categories into a list, as well as the filename of each article into a list. \n",
    "\n",
    "I also load the contents of each article into a list, and a list for each article's index for convenience. \n",
    "\n",
    "A pandas dataframe is created, where the columns are the article filename and article category. The filenames must be sorted using a technique called \"natural sorting\". This is because the filename is stored as as string, but contains an integer number (from 0 to 1407 for each article number). By not using natural sorting, the list of articles would be sorted incorrectly (article_0, article_1, article_10, article_100, article_1000) etc.\n",
    "\n",
    "\n",
    "All of the above is achieved using five functions:"
   ]
  },
  {
   "cell_type": "code",
   "execution_count": 5,
   "metadata": {},
   "outputs": [],
   "source": [
    "directory_category = \"categories/categories.txt\"\n",
    "directory_articles = \"data/\"\n",
    "\n",
    "# load each category from file\n",
    "def load_categories(directory):\n",
    "    with open(directory) as f:\n",
    "        categories = [line.rstrip() for line in f]\n",
    "    return categories\n",
    "\n",
    "\n",
    "# load all filenames from subdirectory\n",
    "def load_articles_filenames(directory):\n",
    "    articles = []\n",
    "    for file in os.listdir(directory):\n",
    "        articles.append(file)\n",
    "    return articles\n",
    "\n",
    "\n",
    "# natural sorting for each article file name, which is type string\n",
    "def natural_sorting(file):\n",
    "    return [int(c) if c.isdigit() else c for c in re.split('(\\d+)', file)]\n",
    "\n",
    "\n",
    "# create pandas dataframe from categories and article filenames\n",
    "def create_dataframe():\n",
    "    categories = load_categories(directory_category)\n",
    "    articles = load_articles_filenames(directory_articles)\n",
    "    articles.sort(key=natural_sorting)\n",
    "    df = pd.DataFrame({'CATEGORY': categories, 'ARTICLE': articles})\n",
    "    return df\n",
    "\n",
    "\n",
    "# load the contents (text) from each article\n",
    "def load_all_articles_contents(number_of_articles):\n",
    "    articles = list()\n",
    "    articles_index = list()\n",
    "    \n",
    "    # for each article, append the contents and index to seperate lists\n",
    "    for i in range(number_of_articles):\n",
    "        file = open(\"data\\\\article_\" + str(i) + \".txt\", \"r\", encoding='utf-8')\n",
    "        content = file.read()\n",
    "        articles.append(content)\n",
    "        articles_index.append(int(i))\n",
    "    return articles, articles_index\n"
   ]
  },
  {
   "cell_type": "markdown",
   "metadata": {},
   "source": [
    "The data is loaded into a dataframe:"
   ]
  },
  {
   "cell_type": "code",
   "execution_count": 6,
   "metadata": {},
   "outputs": [
    {
     "name": "stdout",
     "output_type": "stream",
     "text": [
      "1408\n"
     ]
    }
   ],
   "source": [
    "df = create_dataframe()\n",
    "print(len(df))"
   ]
  },
  {
   "cell_type": "markdown",
   "metadata": {},
   "source": [
    "## 2. Document-Term Matrix"
   ]
  },
  {
   "cell_type": "markdown",
   "metadata": {},
   "source": [
    "The body of each article is 'tokenized'. Tokenizing is the process of dividing text into a series of tokens. The text is also 'lemmatized' to group together words based on their dictionar/base form or intended meaning. This is achieved in the __lemma_tokenizer__ function.\n",
    "\n",
    "\n",
    "A document-term matrix is created, which is the frequency of words after tokenizing/lemmatizing. The articles are vectorized, excluding stop-words and using a filter to exclude words which have a document frequency less than 5. My custom tokenzier is used. The term matrix is created using the __create_term_matrix__ function."
   ]
  },
  {
   "cell_type": "code",
   "execution_count": 7,
   "metadata": {},
   "outputs": [],
   "source": [
    "# tokenizer and lemmatizer\n",
    "def lemma_tokenizer(text):\n",
    "    #tokenizer\n",
    "    tokenize = CountVectorizer().build_tokenizer()\n",
    "    tokens = tokenize(text)\n",
    "\n",
    "    #lemmatisation\n",
    "    lemmatizer = nltk.stem.WordNetLemmatizer()\n",
    "    tokens_lemmatized = []\n",
    "    for token in tokens:\n",
    "        tokens_lemmatized.append(lemmatizer.lemmatize(token))\n",
    "    return tokens_lemmatized\n",
    "\n",
    "\n",
    "# document term-matrix (frequency of terms)\n",
    "def create_term_matrix(articles):\n",
    "    words = []\n",
    "    for i in articles:\n",
    "        lemma_tokens = lemma_tokenizer(i)\n",
    "        words.extend(lemma_tokens)\n",
    "\n",
    "    # create TF-IDF weighted document-term matrix\n",
    "    vectorizer = TfidfVectorizer(min_df = 5, stop_words='english', tokenizer=lemma_tokenizer)\n",
    "    term_matrix = vectorizer.fit_transform(articles)\n",
    "    return term_matrix, vectorizer, words"
   ]
  },
  {
   "cell_type": "markdown",
   "metadata": {},
   "source": [
    "Tokenization and lemmatization is used, and the document term matrix is created. The TF-IDF vectorizer is used to create the term matrix. The TF-IDF (or term frequency-inverse document frequency) has the advantage of weighting the words to reflect its importance in the article. Thus, terms that will appear in most if not all articles, like 'as' 'the' 'of' etc, are \"weighed down\" in the term frequency."
   ]
  },
  {
   "cell_type": "markdown",
   "metadata": {},
   "source": [
    "\\begin{equation}\n",
    "Term\\ Frequency (TF) = \\frac{Times\\ a\\ term\\ appears\\ in\\ document}{Number\\ of\\ terms\\ in\\ document}\n",
    "\\end{equation}\n",
    "\n",
    "\\begin{equation}\n",
    "Inverse\\ Document\\ Frequency = log\\frac{Total\\ number\\ of\\ documents}{Number\\ of\\ documents\\ with\\ term\\ in\\ it}\n",
    "\\end{equation}"
   ]
  },
  {
   "cell_type": "code",
   "execution_count": 8,
   "metadata": {},
   "outputs": [],
   "source": [
    "articles, articles_index = load_all_articles_contents(len(df))\n",
    "term_matrix, vectorizer, words = create_term_matrix(articles)"
   ]
  },
  {
   "cell_type": "markdown",
   "metadata": {},
   "source": [
    "## 3. Classification Models"
   ]
  },
  {
   "cell_type": "markdown",
   "metadata": {},
   "source": [
    "I chose to use three classificaiton models on the corpus. The three models chosen are the k-Nearest Neighbours Classifier, the Naive Bayes classifier and the Support Vector Machines model. "
   ]
  },
  {
   "cell_type": "markdown",
   "metadata": {},
   "source": [
    "Firstly, I isolate the categories column from the pandas dataframe. This column contains the categories of each of the 1408 articles and will be used for the classification models. "
   ]
  },
  {
   "cell_type": "code",
   "execution_count": 9,
   "metadata": {},
   "outputs": [],
   "source": [
    "target = df['CATEGORY']"
   ]
  },
  {
   "cell_type": "markdown",
   "metadata": {},
   "source": [
    "The corpus is then split into training and test sets. I chose the test set size to be 20%. This is an appropriate ratio as this text processing is relatively low complexity, and choosing a high ratio would result in overfitting. \n",
    "The data is split up as follows:\n",
    "1. data_train is the data to train the model.\n",
    "2. data_test is the data used for evaluation.\n",
    "3. target_train is the category labels to train the model.\n",
    "4. target_test is the category labels used for evaluation."
   ]
  },
  {
   "cell_type": "code",
   "execution_count": 10,
   "metadata": {},
   "outputs": [],
   "source": [
    "data_train, data_test, target_train, target_test = train_test_split(term_matrix, target, test_size=0.2)"
   ]
  },
  {
   "cell_type": "markdown",
   "metadata": {},
   "source": [
    "I then apply each of the three individual classifiers to the training data with the target category labels. \n",
    "\n",
    "The first classifier is the kNN - nearest neighbour. This classifier, in this case, predicts the article category based on the majority vote of its neighbours. If k=1, the decision is based on its nearest neighbour. The distance function metric used is the default parameter, that being the Minkowski metric. With the default power parameter of 2, this is equivalent to the Euclidean distance function. For the kNN classifier, I chose the number of nearest neighbours, k, to be 3.\n",
    "\n",
    "\\begin{equation}\n",
    "    Euclidean\\ Distance = \\sqrt{\\sum_{i=1}^{k}(x_i-y_i)^2}\n",
    "\\end{equation}\n",
    "\n",
    "\n",
    "Next, I used the Naive Bayes model. This classifier, sometimes referred to as the 'idiot Bayes model', is often criticized due to its 'naive' assumption of the features being independent. \n",
    "\n",
    "\n",
    "Finally, I used the Support Vector Classifier/Machines model. The SVC used is linear, as without tuning the classifier only achieves an accuracy in the range of 35-40%. \n",
    "\n",
    "Precitions for the test data are made for each of the classification models, which will be used for evaluation purposes."
   ]
  },
  {
   "cell_type": "code",
   "execution_count": 11,
   "metadata": {},
   "outputs": [],
   "source": [
    "# kNN - Nearest Neighbour\n",
    "model_kn = KNeighborsClassifier(n_neighbors=3)\n",
    "model_kn.fit(data_train, target_train)\n",
    "predicted_kn = model_kn.predict(data_test)\n",
    "\n",
    "\n",
    "# Naive Bayes\n",
    "model_nb = MultinomialNB()\n",
    "model_nb.fit(data_train, target_train)\n",
    "predicted_nb = model_nb.predict(data_test)\n",
    "\n",
    "\n",
    "# Support Vector Machines\n",
    "model_svc = SVC(kernel='linear')\n",
    "model_svc.fit(data_train, target_train)\n",
    "predicted_svc = model_svc.predict(data_test)"
   ]
  },
  {
   "cell_type": "markdown",
   "metadata": {},
   "source": [
    "## 4. Evaluating Classification Models"
   ]
  },
  {
   "cell_type": "markdown",
   "metadata": {},
   "source": [
    "### Accuracy\n",
    "The first method I used to evaluate the three classification models is to calculate the accuracy. The accuracy is the fraction of correct predictions made by the classifier. "
   ]
  },
  {
   "cell_type": "markdown",
   "metadata": {},
   "source": [
    "\\begin{equation}\n",
    "Accuracy = \\frac{Correct Predictions}{Total Predictions}\n",
    "\\end{equation}"
   ]
  },
  {
   "cell_type": "code",
   "execution_count": 12,
   "metadata": {},
   "outputs": [
    {
     "name": "stdout",
     "output_type": "stream",
     "text": [
      "Accuracy using kNN method: 95.39%\n",
      "Accuracy using Naive Bayes method: 98.58%\n",
      "Accuracy using SVM method: 98.94%\n"
     ]
    }
   ],
   "source": [
    "# Accuracy\n",
    "knn_acc = accuracy_score(target_test, predicted_kn)\n",
    "nb_acc = accuracy_score(target_test, predicted_nb)\n",
    "svc_acc = accuracy_score(target_test, predicted_svc)\n",
    "\n",
    "print(\"Accuracy using kNN method: \" + str(round(knn_acc*100, 2)) + \"%\")\n",
    "print(\"Accuracy using Naive Bayes method: \" + str(round(nb_acc*100, 2)) + \"%\")\n",
    "print(\"Accuracy using SVM method: \" + str(round(svc_acc*100, 2)) + \"%\")"
   ]
  },
  {
   "cell_type": "markdown",
   "metadata": {},
   "source": [
    "The results obtained by this evaluation method gave consistent results in the range 94-99%. Naive Bayes classification model often gave the best results, despite the fact it is a simple classifier and assumes independent features. "
   ]
  },
  {
   "cell_type": "markdown",
   "metadata": {},
   "source": [
    "### Cross-Validation Evaluation"
   ]
  },
  {
   "cell_type": "markdown",
   "metadata": {},
   "source": [
    "The next technique I used to evaluate the predictive models is cross-validation.\n",
    "\n",
    "Cross-validation involves parititioning the original data into distinct subsamples or 'folds', where each fold contains the same proportion of the corpus. The experiment is repeated for all folds and the accuracy is an average of each run.\n",
    "\n",
    "I tested a range of different number of folds, to see if was any notable improvment in results. For _n_ folds, the __cross_val_score__ function returns _n_ accuracy scores, which can be averaged. I represent this as a percentage accuracy."
   ]
  },
  {
   "cell_type": "code",
   "execution_count": 13,
   "metadata": {},
   "outputs": [
    {
     "name": "stdout",
     "output_type": "stream",
     "text": [
      "Evaluating kNN classifier with Cross-Validation (using 2 folds) yields avg score: 95.88%\n",
      "Evaluating NB  classifier with Cross-Validation (using 2 folds) yields avg score: 97.51%\n",
      "Evaluating SVC classifier with Cross-Validation (using 2 folds) yields avg score: 97.58%\n",
      "\n",
      "Evaluating kNN classifier with Cross-Validation (using 3 folds) yields avg score: 95.38%\n",
      "Evaluating NB  classifier with Cross-Validation (using 3 folds) yields avg score: 97.94%\n",
      "Evaluating SVC classifier with Cross-Validation (using 3 folds) yields avg score: 98.29%\n",
      "\n",
      "Evaluating kNN classifier with Cross-Validation (using 5 folds) yields avg score: 95.46%\n",
      "Evaluating NB  classifier with Cross-Validation (using 5 folds) yields avg score: 98.08%\n",
      "Evaluating SVC classifier with Cross-Validation (using 5 folds) yields avg score: 98.37%\n",
      "\n",
      "Evaluating kNN classifier with Cross-Validation (using 10 folds) yields avg score: 95.46%\n",
      "Evaluating NB  classifier with Cross-Validation (using 10 folds) yields avg score: 98.01%\n",
      "Evaluating SVC classifier with Cross-Validation (using 10 folds) yields avg score: 98.44%\n",
      "\n",
      "Evaluating kNN classifier with Cross-Validation (using 20 folds) yields avg score: 95.6%\n",
      "Evaluating NB  classifier with Cross-Validation (using 20 folds) yields avg score: 98.0%\n",
      "Evaluating SVC classifier with Cross-Validation (using 20 folds) yields avg score: 98.43%\n",
      "\n"
     ]
    }
   ],
   "source": [
    "# Cross-Validation Evaluation\n",
    "folds = [2, 3, 5, 10, 20]\n",
    "for fold in folds:\n",
    "    scores = cross_val_score(model_kn, term_matrix, target, cv=fold, scoring='accuracy')\n",
    "    print(\"Evaluating kNN classifier with Cross-Validation (using \" + str(fold) + \" folds) yields avg score: \" + str(round(scores.mean()*100, 2)) + \"%\")\n",
    "    scores = cross_val_score(model_nb, term_matrix, target, cv=fold, scoring='accuracy')\n",
    "    print(\"Evaluating NB  classifier with Cross-Validation (using \" + str(fold) + \" folds) yields avg score: \"+ str(round(scores.mean()*100, 2)) + \"%\")\n",
    "    scores = cross_val_score(model_svc, term_matrix, target, cv=fold, scoring='accuracy')\n",
    "    print(\"Evaluating SVC classifier with Cross-Validation (using \" + str(fold) + \" folds) yields avg score: \"+ str(round(scores.mean()*100, 2)) + \"%\\n\")"
   ]
  },
  {
   "cell_type": "markdown",
   "metadata": {},
   "source": [
    "The cross-validation method of evaluating for the 3 different classifiers gives results in the range of approximately 95-99%. The support vector machines classifier seems to perform the best for this evaluation method.\n",
    "The number of folds used appeared to have little to no affect on the accuracy results."
   ]
  },
  {
   "cell_type": "markdown",
   "metadata": {},
   "source": [
    "### Confusion Matrix Evaluation"
   ]
  },
  {
   "cell_type": "markdown",
   "metadata": {},
   "source": [
    "The final method of classifier evaluation I used is a confusion matrix - also known as an error matrix. The confusion matrix is a way of visualising the performance of a classifier with a table layout. The table columns (in this case) represent the predicted categories and the rows are the true categories. "
   ]
  },
  {
   "cell_type": "code",
   "execution_count": 14,
   "metadata": {},
   "outputs": [
    {
     "name": "stdout",
     "output_type": "stream",
     "text": [
      "kNN Confusion Matrix\n",
      "[[ 97   2   7]\n",
      " [  1 100   0]\n",
      " [  2   1  72]]\n",
      "Naive Bayes Confusion Matrix\n",
      "[[104   0   2]\n",
      " [  0 101   0]\n",
      " [  1   1  73]]\n",
      "SVM Confusion Matrix\n",
      "[[104   0   2]\n",
      " [  0 101   0]\n",
      " [  0   1  74]]\n"
     ]
    }
   ],
   "source": [
    "# Confusion Matrix Evaluation\n",
    "cm_knn = confusion_matrix(target_test, predicted_kn)\n",
    "print(\"kNN Confusion Matrix\" + '\\n' +  str(cm_knn))\n",
    "cm_nb = confusion_matrix(target_test, predicted_nb)\n",
    "print(\"Naive Bayes Confusion Matrix\" + '\\n' +  str(cm_nb))\n",
    "cm_svc = confusion_matrix(target_test, predicted_svc)\n",
    "print(\"SVM Confusion Matrix\" + '\\n' +  str(cm_svc))"
   ]
  },
  {
   "cell_type": "markdown",
   "metadata": {},
   "source": [
    "It can be seen from the matrices that performance of these models are all excellent by examining the values along the diagonal - known as the true values, which are the values for the true positives.\n",
    "\n",
    "\n",
    "\n",
    "I used pyplot to create a confusion matrix table to more easily visualise the results. __Note__ that I repurposed some example code found on the scikit-learn.org website for these plots.  \n",
    "http://scikit-learn.org/stable/auto_examples/model_selection/plot_confusion_matrix.html"
   ]
  },
  {
   "cell_type": "code",
   "execution_count": 15,
   "metadata": {},
   "outputs": [],
   "source": [
    "# plots the confusion matrix\n",
    "def plot_confusion_matrix(cm, classes,\n",
    "                          title='Confusion matrix',\n",
    "                          cmap=plt.cm.Blues):\n",
    "\n",
    "    cm = cm.astype('float') / cm.sum(axis=1)[:, np.newaxis]\n",
    "    plt.imshow(cm, interpolation='nearest', cmap=cmap)\n",
    "    plt.title(title)\n",
    "    plt.colorbar()\n",
    "    tick_marks = np.arange(len(classes))\n",
    "    plt.xticks(tick_marks, classes, rotation=45)\n",
    "    plt.yticks(tick_marks, classes)\n",
    "\n",
    "    fmt = '.2f'\n",
    "    thresh = cm.max() / 2.\n",
    "    for i, j in itertools.product(range(cm.shape[0]), range(cm.shape[1])):\n",
    "        plt.text(j, i, format(cm[i, j], fmt),\n",
    "                 horizontalalignment=\"center\",\n",
    "                 color=\"white\" if cm[i, j] > thresh else \"black\")\n",
    "\n",
    "    plt.tight_layout()\n",
    "    plt.ylabel('True category')\n",
    "    plt.xlabel('Predicted category')\n",
    "    \n",
    "# gets the article categories (no duplicates)\n",
    "def get_categories(df):\n",
    "    categories = df[['CATEGORY']].drop_duplicates()['CATEGORY'].tolist()\n",
    "    for i in  range(len(categories)):\n",
    "        categories[i] = categories[i].replace(u'\\xa0', '')\n",
    "    return categories"
   ]
  },
  {
   "cell_type": "markdown",
   "metadata": {},
   "source": [
    "I get the category names using my __get_categories__ function. This returns one of each category found in the categories file."
   ]
  },
  {
   "cell_type": "code",
   "execution_count": 16,
   "metadata": {},
   "outputs": [
    {
     "data": {
      "text/plain": [
       "['technology', 'business', 'sport']"
      ]
     },
     "execution_count": 16,
     "metadata": {},
     "output_type": "execute_result"
    }
   ],
   "source": [
    "categories = get_categories(df)\n",
    "categories"
   ]
  },
  {
   "cell_type": "code",
   "execution_count": 17,
   "metadata": {},
   "outputs": [
    {
     "data": {
      "image/png": "[encoded data removed]",
      "text/plain": [
       "<matplotlib.figure.Figure at 0x12780198>"
      ]
     },
     "metadata": {},
     "output_type": "display_data"
    },
    {
     "data": {
      "image/png": "[encoded data removed]",
      "text/plain": [
       "<matplotlib.figure.Figure at 0x1279a2e8>"
      ]
     },
     "metadata": {},
     "output_type": "display_data"
    },
    {
     "data": {
      "image/png": "[encoded data removed]",
      "text/plain": [
       "<matplotlib.figure.Figure at 0x12a0c860>"
      ]
     },
     "metadata": {},
     "output_type": "display_data"
    }
   ],
   "source": [
    "plt.figure()\n",
    "plot_confusion_matrix(cm_knn, categories, title='kNN Confusion Matrix')\n",
    "plt.figure()\n",
    "plot_confusion_matrix(cm_nb, categories, title='Naive Bayes Confusion Matrix')\n",
    "plt.figure()\n",
    "plot_confusion_matrix(cm_svc, categories, title='SVM Confusion Matrix')\n",
    "plt.show()"
   ]
  },
  {
   "cell_type": "markdown",
   "metadata": {},
   "source": [
    "The above three plots show the performance of classifiers when evaluating using the confusion matrix. The values are normalised, reporting a ratiometric value of correct predictions to all predictions.\n",
    "\n",
    "From examining the normalised plots obtained, and the non-normalised matrices above, it appears the kNN classifier performed the worst according to this method of evaluation."
   ]
  },
  {
   "cell_type": "markdown",
   "metadata": {},
   "source": [
    "# Conclusion"
   ]
  },
  {
   "cell_type": "markdown",
   "metadata": {},
   "source": [
    "From the three methods of classifier evaluation used, it appears as though the Naive Bayes and SVM classifiers outperformed the kNN classifier.\n",
    "\n",
    "Evaluating using the accuracy and cross-validation metrics revealed that the kNN classifier often scored 1-3% lower than the others. Additonally, in the normalised confusion matrix the kNN classifier has a higher rate of error comparatively. Some parameter tuning of the kNN classifier might reveal better results. \n",
    "\n",
    "\n",
    "The accuracy results obtained are very high, but after researching online I found that text classification is relatively simple compared to other forms of classification e.g. images etc. \n",
    "\n",
    "Additionally, the corpus contained only 3 labels, sports business & technology, which are quite different & distinguishable in their own right. Less distinct features might prove less accurate.\n",
    "\n",
    "\n",
    "\n",
    "An article by Zakzouk and Mathkour, 'Comparing text classifiers for sports news' for the 'First World Conference on Innovation and Computer Sciences', concluded that the Naive Bayes model had the best effectiveness in terms of accuracy and processing time. [1]\n",
    "\n",
    "Furthermore, a sutdy by Wang et al (2007) compared serveral text classification algorithms including Naive Bayes and SVM. Their conclusion found that once again, Naive Bayes performed the best. [2]\n",
    "\n",
    "It is interesting to note that neither study used the kNN classifier, which may be for good reason.\n",
    "\n",
    "\n",
    "[1] https://www.sciencedirect.com/science/article/pii/S2212017312001053\n",
    "\n",
    "[2] https://www.researchgate.net/figure/Comparison-of-popular-text-classification-algorithms-The-performance-of-four-well-known_fig1_6182639"
   ]
  }
 ],
 "metadata": {
  "kernelspec": {
   "display_name": "Python 3",
   "language": "python",
   "name": "python3"
  },
  "language_info": {
   "codemirror_mode": {
    "name": "ipython",
    "version": 3
   },
   "file_extension": ".py",
   "mimetype": "text/x-python",
   "name": "python",
   "nbconvert_exporter": "python",
   "pygments_lexer": "ipython3",
   "version": "3.6.4"
  }
 },
 "nbformat": 4,
 "nbformat_minor": 2
}
